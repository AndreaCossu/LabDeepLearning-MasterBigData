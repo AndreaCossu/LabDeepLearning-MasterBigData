{
  "nbformat": 4,
  "nbformat_minor": 0,
  "metadata": {
    "colab": {
      "name": "2-Monitoring experiments.ipynb",
      "provenance": [],
      "collapsed_sections": [],
      "toc_visible": true
    },
    "kernelspec": {
      "name": "python3",
      "display_name": "Python 3"
    },
    "language_info": {
      "name": "python"
    }
  },
  "cells": [
    {
      "cell_type": "markdown",
      "metadata": {
        "id": "-vUeSw7fxMMW"
      },
      "source": [
        "# Cool visualization of ongoing experiments"
      ]
    },
    {
      "cell_type": "markdown",
      "metadata": {
        "id": "WQagDOr-x4Nf"
      },
      "source": [
        "In order to proper understand what is going on during training, you often need to log values, create plots and so on. \n",
        "\n",
        "**Keeping a log file in text format is always useful, you may want to produce customized visualizations**.\n",
        "\n",
        "However, there are some tools which can facilitate the process. "
      ]
    },
    {
      "cell_type": "markdown",
      "metadata": {
        "id": "5kNs-TfW9Xh6"
      },
      "source": [
        "## Tensorboard"
      ]
    },
    {
      "cell_type": "markdown",
      "metadata": {
        "id": "QtAq57Az9Y08"
      },
      "source": [
        "Already embedded within TF and Keras (and also PyTorch, with less features).  "
      ]
    },
    {
      "cell_type": "code",
      "metadata": {
        "id": "rIIYOKdMAZfZ"
      },
      "source": [
        "# this is only needed in a notebook\n",
        "%load_ext tensorboard "
      ],
      "execution_count": null,
      "outputs": []
    },
    {
      "cell_type": "code",
      "metadata": {
        "id": "uaeqMrF_99CZ"
      },
      "source": [
        "import tensorflow as tf\n",
        "from tensorflow import keras as K"
      ],
      "execution_count": null,
      "outputs": []
    },
    {
      "cell_type": "code",
      "metadata": {
        "id": "m5tUCgaw9fZ2"
      },
      "source": [
        "(x_train, y_train),(x_test, y_test) = K.datasets.mnist.load_data()\n",
        "x_train, x_test = x_train / 255.0, x_test / 255.0 # normalize\n",
        "model = K.models.Sequential([\n",
        "    K.layers.Flatten(), # (batch size, 784)\n",
        "    K.layers.Dense(128,  activation='relu'),\n",
        "    K.layers.Dense(10, activation='softmax')\n",
        "])\n",
        "model.compile(optimizer='adam', loss='sparse_categorical_crossentropy', metrics=['accuracy'])\n",
        "\n",
        "tensorboard_callback = K.callbacks.TensorBoard(log_dir=\"./logs\", histogram_freq=1)\n",
        "model.fit(x_train, y_train, epochs=4, callbacks=[tensorboard_callback], \n",
        "          validation_data=(x_test, y_test))"
      ],
      "execution_count": null,
      "outputs": []
    },
    {
      "cell_type": "code",
      "metadata": {
        "id": "sEvwl-KTAU5i"
      },
      "source": [
        "%tensorboard --logdir ./logs"
      ],
      "execution_count": null,
      "outputs": []
    },
    {
      "cell_type": "markdown",
      "metadata": {
        "id": "7sqcW67O_iE8"
      },
      "source": [
        "Tensorboard.dev allows you to create a report with a permanent link: https://www.tensorflow.org/tensorboard/get_started#tensorboarddev_host_and_share_your_ml_experiment_results"
      ]
    },
    {
      "cell_type": "markdown",
      "metadata": {
        "id": "PN2R3J81Ikf0"
      },
      "source": [
        "You can use `Tensorboard` also manually, by logging specific values with the `summary_writer` on specific code lines. This is useful when you work at lower abstraction level by combining Keras and Tensorflow.  \n",
        "https://www.tensorflow.org/tensorboard/get_started#using_tensorboard_with_other_methods"
      ]
    },
    {
      "cell_type": "markdown",
      "metadata": {
        "id": "rYwuNuA0LEuo"
      },
      "source": [
        "## Weights and Biases (W&B)"
      ]
    },
    {
      "cell_type": "markdown",
      "metadata": {
        "id": "aP3YJkCxLIBA"
      },
      "source": [
        "Similar to Tensorboard, more organized, a commercial product free for open-source projects: https://docs.wandb.ai/  \n",
        "Compatible also with PyTorch."
      ]
    },
    {
      "cell_type": "code",
      "metadata": {
        "id": "RHH67CW8LMrT"
      },
      "source": [
        "!pip install wandb -q\n",
        "import wandb\n",
        "from wandb.keras import WandbCallback"
      ],
      "execution_count": null,
      "outputs": []
    },
    {
      "cell_type": "code",
      "metadata": {
        "id": "FbRA-OZwLnCe"
      },
      "source": [
        "wandb.init(entity=\"aco\", project=\"wandb-example\")\n",
        "config = wandb.config # Config is a variable that holds and saves hyperparameters and inputs\n",
        "config.epochs = 5"
      ],
      "execution_count": null,
      "outputs": []
    },
    {
      "cell_type": "code",
      "metadata": {
        "id": "8ibSXfA3L9kc"
      },
      "source": [
        "%%wandb\n",
        "\n",
        "model = K.models.Sequential([\n",
        "    K.layers.Flatten(), # (batch size, 784)\n",
        "    K.layers.Dense(128,  activation='relu'),\n",
        "    K.layers.Dense(10, activation='softmax')\n",
        "])\n",
        "model.compile(optimizer='adam', loss='sparse_categorical_crossentropy', metrics=['accuracy'])\n",
        "\n",
        "wandb_callback = WandbCallback(validation_data=(x_test, y_test))\n",
        "model.fit(x_train, y_train, epochs=config.epochs, callbacks=[wandb_callback], \n",
        "          validation_data=(x_test, y_test))"
      ],
      "execution_count": null,
      "outputs": []
    },
    {
      "cell_type": "markdown",
      "metadata": {
        "id": "vvFwPxF5MJb_"
      },
      "source": [
        "Equivalently, you can use `wandb.log()` to manually log values into the dashboard."
      ]
    },
    {
      "cell_type": "markdown",
      "metadata": {
        "id": "rZsEifXHVPBl"
      },
      "source": [
        "**Exercise**: try to add tensorboard/W&B logging features to the custom MLP you implemented."
      ]
    }
  ]
}